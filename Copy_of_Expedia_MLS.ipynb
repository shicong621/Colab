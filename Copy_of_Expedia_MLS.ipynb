{
  "nbformat": 4,
  "nbformat_minor": 0,
  "metadata": {
    "colab": {
      "provenance": [],
      "collapsed_sections": [],
      "include_colab_link": true
    },
    "kernelspec": {
      "name": "python3",
      "display_name": "Python 3"
    },
    "language_info": {
      "name": "python"
    }
  },
  "cells": [
    {
      "cell_type": "markdown",
      "metadata": {
        "id": "view-in-github",
        "colab_type": "text"
      },
      "source": [
        "<a href=\"https://colab.research.google.com/github/shicong621/Colab/blob/main/Copy_of_Expedia_MLS.ipynb\" target=\"_parent\"><img src=\"https://colab.research.google.com/assets/colab-badge.svg\" alt=\"Open In Colab\"/></a>"
      ]
    },
    {
      "cell_type": "code",
      "execution_count": null,
      "metadata": {
        "id": "T75ZRnW6vAI1"
      },
      "outputs": [],
      "source": [
        "import pandas as pd\n",
        "import numpy as np\n",
        "import xgboost as xgb\n",
        "import matplotlib.pyplot as plt\n",
        "import seaborn as sns\n",
        "import datetime, warnings, scipy "
      ]
    },
    {
      "cell_type": "code",
      "source": [
        "pip install xgboost\n",
        "pip install scikit-learn"
      ],
      "metadata": {
        "id": "czNoAjdQSj2J"
      },
      "execution_count": null,
      "outputs": []
    },
    {
      "cell_type": "code",
      "source": [
        "train = pd.read_csv(\"train.csv\")\n",
        "test = pd.test_csv(\"test.csv\")"
      ],
      "metadata": {
        "id": "w4lSC8G6vmeF"
      },
      "execution_count": null,
      "outputs": []
    },
    {
      "cell_type": "code",
      "source": [
        "train.info()"
      ],
      "metadata": {
        "id": "kOmRfOc9wgfA"
      },
      "execution_count": null,
      "outputs": []
    },
    {
      "cell_type": "code",
      "source": [
        "#train['DATE'] = pd.to_datetime(train[['dep_date','arr_date']])\n",
        "train['day_of_weeks_arr'] = train['arr_date'].dt.day_name()\n",
        "train['Month'] = train['arr_date'].dt.month"
      ],
      "metadata": {
        "id": "zKSACmjBAHJp"
      },
      "execution_count": null,
      "outputs": []
    },
    {
      "cell_type": "code",
      "source": [
        "\n",
        "# Function that convert the 'HHMM' string to datetime.time\n",
        "def format_heure(chaine):\n",
        "    if pd.isnull(chaine):\n",
        "        return np.nan\n",
        "    else:\n",
        "        if chaine == 2400: chaine = 0\n",
        "        chaine = \"{0:04d}\".format(int(chaine))\n",
        "        heure = datetime.time(int(chaine[0:2]), int(chaine[2:4]))\n",
        "        return heure\n",
        "#_____________________________________________________________________\n",
        "# Function that combines a date and time to produce a datetime.datetime\n",
        "def combine_date_heure(x):\n",
        "    if pd.isnull(x[0]) or pd.isnull(x[1]):\n",
        "        return np.nan\n",
        "    else:\n",
        "        return datetime.datetime.combine(x[0],x[1])\n",
        "#_______________________________________________________________________________\n",
        "# Function that combine two columns of the dataframe to create a datetime format\n",
        "def create_flight_time(df, col):    \n",
        "    liste = []\n",
        "    for index, cols in df[['DATE', col]].iterrows():    \n",
        "        if pd.isnull(cols[1]):\n",
        "            liste.append(np.nan)\n",
        "        elif float(cols[1]) == 2400:\n",
        "            cols[0] += datetime.timedelta(days=1)\n",
        "            cols[1] = datetime.time(0,0)\n",
        "            liste.append(combine_date_heure(cols))\n",
        "        else:\n",
        "            cols[1] = format_heure(cols[1])\n",
        "            liste.append(combine_date_heure(cols))\n",
        "    return pd.Series(liste)\n"
      ],
      "metadata": {
        "id": "r8q5bDuj1NTo"
      },
      "execution_count": null,
      "outputs": []
    },
    {
      "cell_type": "code",
      "source": [
        "df['dep_date'] = create_flight_time(df, 'dep_date')\n",
        "df['DEPARTURE_TIME'] = df['DEPARTURE_TIME'].apply(format_heure)\n",
        "df['arr_date'] = df['arr_date'].apply(format_heure)\n",
        "df['ARRIVAL_TIME'] = df['ARRIVAL_TIME'].apply(format_heure)\n",
        "#__________________________________________________________________________\n",
        "df.loc[:5, ['dep_date', 'SCHEDULED_ARRIVAL', 'DEPARTURE_TIME',\n",
        "             'arr_date', 'DEPARTURE_DELAY', 'ARRIVAL_DELAY']]"
      ],
      "metadata": {
        "id": "CRlwru6d15gg"
      },
      "execution_count": null,
      "outputs": []
    },
    {
      "cell_type": "code",
      "source": [
        "variables_to_remove = ['TAXI_OUT', 'TAXI_IN', 'WHEELS_ON', 'WHEELS_OFF', 'YEAR', \n",
        "                       'MONTH','DAY','DAY_OF_WEEK','DATE', 'AIR_SYSTEM_DELAY',\n",
        "                       'SECURITY_DELAY', 'AIRLINE_DELAY', 'LATE_AIRCRAFT_DELAY',\n",
        "                       'WEATHER_DELAY', 'DIVERTED', 'CANCELLED', 'CANCELLATION_REASON',\n",
        "                       'FLIGHT_NUMBER', 'TAIL_NUMBER', 'AIR_TIME']\n",
        "df.drop(variables_to_remove, axis = 1, inplace = True)\n",
        "df = df[['ac_code', 'dep_stn', 'arr_stn',\n",
        "        'dep_date', 'DEPARTURE_TIME', 'DEPARTURE_DELAY',\n",
        "        'SCHEDULED_ARRIVAL', 'ARRIVAL_TIME', 'ARRIVAL_DELAY',\n",
        "        'SCHEDULED_TIME', 'ELAPSED_TIME']]\n",
        "df[:5]"
      ],
      "metadata": {
        "id": "f1Gd1xtq2S_P"
      },
      "execution_count": null,
      "outputs": []
    },
    {
      "cell_type": "code",
      "source": [
        "# missing value\n",
        "missing_df = df.isnull().sum(axis=0).reset_index()\n",
        "missing_df.columns = ['variable', 'missing values']\n",
        "missing_df['filling factor (%)']=(df.shape[0]-missing_df['missing values'])/df.shape[0]*100\n",
        "missing_df.sort_values('filling factor (%)').reset_index(drop = True)"
      ],
      "metadata": {
        "id": "ItzWGqvY3kJN"
      },
      "execution_count": null,
      "outputs": []
    },
    {
      "cell_type": "code",
      "source": [
        "df.dropna(inplace = True)\n",
        "# flights_data=flights_data.fillna(flights_data.mean()) "
      ],
      "metadata": {
        "id": "de2DBIfP3knO"
      },
      "execution_count": null,
      "outputs": []
    },
    {
      "cell_type": "code",
      "source": [
        "from sklearn import preprocessing\n",
        "\n",
        "#label encoding\n",
        "label_columns = ['weather', 'dep_country', 'arr_country','dep_stn', 'arr_stn']\n",
        "# label_encoder object knows how to understand word labels.\n",
        "label_encoder = preprocessing.LabelEncoder()\n",
        "for col in label_columns:\n",
        "  df[col]= label_encoder.fit_transform(df[col])\n",
        "\n",
        "\n",
        "#one hot encoding\n",
        "one_hot_columns = []\n",
        "oh_encoder = prepreocessing.OneHotEncoder()\n",
        "enc_data = pd.DataFrame(enc.fit_transform(df[[one_hot_columns]]).toarray())\n",
        "New_df=df.join(enc_data)\n",
        "\n"
      ],
      "metadata": {
        "id": "oGn8uW5zQLSh"
      },
      "execution_count": null,
      "outputs": []
    },
    {
      "cell_type": "code",
      "source": [
        "### New feature\n",
        "# airline_code -> first two character in ac_code\n",
        "df['airline_code'] = df['ac_code'].astype(str).str[:2]\n",
        "\n",
        "\n",
        "###month\n",
        "df['month'] = df['dep_date'].dt.month\n",
        "\n",
        "###year\n",
        "df['year'] = df['dep_date'].dt.year\n",
        "\n",
        "###day name\n",
        "df['weekday'] = df['dep_date'].dt.day_name()\n",
        "\n",
        "###holiday?\n",
        "from pandas.tseries.holiday import USFederalHolidayCalendar as calendar\n",
        "\n",
        "dr = pd.to_datetime(df['dep_date']).dt.date\n",
        "\n",
        "#dr = pd.date_range(start='2015-07-01', end='2015-07-31')\n",
        "#df = pd.DataFrame()\n",
        "df['date'] = dr\n",
        "\n",
        "cal = calendar()\n",
        "holidays = cal.holidays(start=dr.min(), end=dr.max())\n",
        "\n",
        "df['holiday'] = df['date'].isin(holidays)\n",
        "\n",
        "### segment into day and night? \n"
      ],
      "metadata": {
        "id": "YjFIHS4dVpbJ"
      },
      "execution_count": null,
      "outputs": []
    },
    {
      "cell_type": "markdown",
      "source": [
        "##Relation between the weather and delays"
      ],
      "metadata": {
        "id": "YN38_QG-4Mw8"
      }
    },
    {
      "cell_type": "code",
      "source": [
        "print(\"Weather type: {}\".format(len(train['weather'].unique())))"
      ],
      "metadata": {
        "id": "r1KmNRC8woAS"
      },
      "execution_count": null,
      "outputs": []
    },
    {
      "cell_type": "code",
      "source": [
        "def plot_bar(group, title):\n",
        "    plt.figure(figsize=(14,6))\n",
        "    sns.barplot(x=group.index,y=group.values)     \n",
        "    plt.title(title)\n",
        "    plt.xticks(rotation=45)\n",
        "    plt.show()"
      ],
      "metadata": {
        "id": "rsFYM0yO96dv"
      },
      "execution_count": null,
      "outputs": []
    },
    {
      "cell_type": "code",
      "source": [
        "plot_bar(train.value_counts('weather'), 'Travel Frequency Month Wise')"
      ],
      "metadata": {
        "id": "ziKtC7364cwp"
      },
      "execution_count": null,
      "outputs": []
    },
    {
      "cell_type": "code",
      "source": [
        "colors = ['royalblue', 'grey', 'wheat', 'c', 'firebrick', 'seagreen', 'lightskyblue',\n",
        "          'lightcoral', 'yellowgreen', 'gold', 'tomato', 'violet', 'aquamarine', 'chartreuse']\n",
        "ax3 = sns.stripplot(y=\"weather\", x=\"DEPARTURE_DELAY\", size = 4, palette = colors,\n",
        "                    data = train, linewidth = 0.5,  jitter=True)\n",
        "plt.setp(ax3.get_xticklabels(), fontsize=14)\n",
        "plt.setp(ax3.get_yticklabels(), fontsize=14)\n",
        "ax3.set_xticklabels(['{:2.0f}h{:2.0f}m'.format(*[int(y) for y in divmod(x,60)])\n",
        "                         for x in ax3.get_xticks()])\n",
        "plt.xlabel('Departure delay', fontsize=18, bbox={'facecolor':'midnightblue', 'pad':5},\n",
        "           color='w', labelpad=20)\n",
        "ax3.yaxis.label.set_visible(False)\n",
        "#________________________\n",
        "plt.tight_layout(w_pad=3) "
      ],
      "metadata": {
        "id": "vM3dnE2--XF3"
      },
      "execution_count": null,
      "outputs": []
    },
    {
      "cell_type": "markdown",
      "source": [
        "##Relation between tht date and delays"
      ],
      "metadata": {
        "id": "tnV4GHEM5o1D"
      }
    },
    {
      "cell_type": "code",
      "source": [
        "##这里不需要划分的\n",
        "delay = []\n",
        "for row in train['ARRIVAL_DELAY']:\n",
        "    if row > 60:\n",
        "        delay.append(3)\n",
        "    elif row > 30:\n",
        "        delay.append(2)\n",
        "    elif row > 15:\n",
        "        delay.append(1)\n",
        "    else:\n",
        "        delay.append(0)  \n",
        "train['delay'] = delay"
      ],
      "metadata": {
        "id": "K3n8rYPvwbqM"
      },
      "execution_count": null,
      "outputs": []
    },
    {
      "cell_type": "code",
      "source": [
        "def plot_bar(group, title):\n",
        "    plt.figure(figsize=(14,6))\n",
        "    sns.barplot(x=group.index,y=group.values)     \n",
        "    plt.title(title)\n",
        "    plt.xticks(rotation=45)\n",
        "    plt.show()\n",
        "plot_bar(train.value_counts('DAY'), 'Travel Frequency Month Wise')\n",
        "plot_bar(train.value_counts('MONTH'), 'x')\n",
        "plot_bar(train.value_counts('DAY_OF_WEEK'), 'Travel Frequency Month Wise')"
      ],
      "metadata": {
        "id": "FN0epmyNxSuX"
      },
      "execution_count": null,
      "outputs": []
    },
    {
      "cell_type": "markdown",
      "source": [
        "## Correlation Plot"
      ],
      "metadata": {
        "id": "FpjIw0qn5wb2"
      }
    },
    {
      "cell_type": "code",
      "source": [
        "sns.jointplot(data=train, x=\"SCHEDULED_ARRIVAL\", y=\"ARRIVAL_TIME\")"
      ],
      "metadata": {
        "id": "s0r-AX1DxPAI"
      },
      "execution_count": null,
      "outputs": []
    },
    {
      "cell_type": "code",
      "source": [
        "sns.jointplot(data=train, y=\"AIRLINE\", x=\"delay\")"
      ],
      "metadata": {
        "id": "g3_LVJAMxR3K"
      },
      "execution_count": null,
      "outputs": []
    },
    {
      "cell_type": "markdown",
      "source": [
        "## Model"
      ],
      "metadata": {
        "id": "KHdoiPZi6KYw"
      }
    },
    {
      "cell_type": "code",
      "source": [
        "from sklearn.preprocessing import StandardScaler\n",
        "import xgboost as xgb"
      ],
      "metadata": {
        "id": "buqzPmwM6MYn"
      },
      "execution_count": null,
      "outputs": []
    },
    {
      "cell_type": "code",
      "source": [
        "y_train = train['delay']\n",
        "x_train = train.drop(['delay'], axis=1)\n",
        "x_test = test.drop(['delay'], axis=1)\n",
        "y_test = test['delay']"
      ],
      "metadata": {
        "id": "ezGgR9NO7C5I"
      },
      "execution_count": null,
      "outputs": []
    },
    {
      "cell_type": "code",
      "source": [
        "regressor=xgb.XGBRegressor(eval_metric='mape')\n",
        "\n",
        "from sklearn.model_selection import GridSearchCV\n",
        "# set up our search grid\n",
        "param_grid = {\"max_depth\":    [4, 5, 6],\n",
        "              \"n_estimators\": range(50, 400, 50),\n",
        "              \"learning_rate\": [0.01, 0.015]}\n",
        "\n",
        "# try out every combination of the above values\n",
        "search = GridSearchCV(regressor, param_grid, cv=5).fit(x_train, y_train)\n",
        "\n",
        "print(\"The best hyperparameters are \",search.best_params_)"
      ],
      "metadata": {
        "id": "2zFmdRR_6W0T"
      },
      "execution_count": null,
      "outputs": []
    },
    {
      "cell_type": "code",
      "source": [
        "regressor=xgb.XGBRegressor(learning_rate = search.best_params_[\"learning_rate\"],\n",
        "                           n_estimators  = search.best_params_[\"n_estimators\"],\n",
        "                           max_depth     = search.best_params_[\"max_depth\"],\n",
        "                           eval_metric='mape')\n",
        "\n",
        "regressor.fit(x_train, y_train)\n",
        "\n",
        "predictions = regressor.predict(x_test)"
      ],
      "metadata": {
        "id": "9EGRheib7lIT"
      },
      "execution_count": null,
      "outputs": []
    },
    {
      "cell_type": "code",
      "source": [
        "from sklearn.metrics import mean_absolute_percentage_error\n",
        "mape = mean_absolute_percentage_error(y_test, predictions)\n",
        "print(\"The score is %.5f\" % mape)"
      ],
      "metadata": {
        "id": "JsS6enmFPM9g"
      },
      "execution_count": null,
      "outputs": []
    },
    {
      "cell_type": "markdown",
      "source": [
        "## Feature importance"
      ],
      "metadata": {
        "id": "U1TtZzQX73AC"
      }
    },
    {
      "cell_type": "code",
      "source": [
        "from xgboost import plot_importance\n",
        "import matplotlib.pyplot as plt\n",
        "plt.style.use('fivethirtyeight')\n",
        "plt.rcParams.update({'font.size': 16})\n",
        "\n",
        "fig, ax = plt.subplots(figsize=(12,6))\n",
        "plot_importance(regressor, max_num_features=8, ax=ax)\n",
        "plt.show();"
      ],
      "metadata": {
        "id": "yN4Ziqlw749f"
      },
      "execution_count": null,
      "outputs": []
    },
    {
      "cell_type": "code",
      "source": [
        "output = pd.DataFrame({\"Id\":test.index, \"DelayTime\":predictions})\n",
        "output.to_csv('sample_submission.csv', index=False)"
      ],
      "metadata": {
        "id": "8KyhHf9Q8W5Z"
      },
      "execution_count": null,
      "outputs": []
    }
  ]
}