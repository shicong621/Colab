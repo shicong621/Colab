{
  "cells": [
    {
      "cell_type": "markdown",
      "metadata": {
        "id": "view-in-github",
        "colab_type": "text"
      },
      "source": [
        "<a href=\"https://colab.research.google.com/github/shicong621/Colab/blob/main/PA4_Shicong_Wang.ipynb\" target=\"_parent\"><img src=\"https://colab.research.google.com/assets/colab-badge.svg\" alt=\"Open In Colab\"/></a>"
      ]
    },
    {
      "cell_type": "markdown",
      "metadata": {
        "id": "jX7JyTtVUJ75"
      },
      "source": [
        "Programming Assignment 4: \n",
        "\n",
        "The files are zipped and uploaded in Piazza Resource .\n",
        "\n",
        "**Part 1: Twitter Sentiment Classification with sklearn**\n",
        "\n",
        "The file: sentiment-train.csv contains 60k tweets annotated by their sentiments (0: negative, 1: positive), which is a sample\n",
        "of a very large sentiment corpus that has been weakly annotated based on the emojis contained in the tweets. File sentiment-test.csv contains the testing data organized in the same format as the training data file.\n",
        "\n",
        "**Task 1 & 2:**\n",
        "Using [sklearn](https://scikit-learn.org/stable/index.html) (you could search for the relevant functions to see how to use them in your code), \n",
        "\n",
        "1. Train a Multinomial Naive Bayes classifier (with default parameters) to predict sentiment on the\n",
        "training data, featurizing the data using CountVectorizer (also in sklearn). Use the default parameters of CountVectorizer\n",
        "and max features = 1000 (to limit the number of bag-of-word features to only the top 1k words based on frequency across\n",
        "the corpus). You should learn more about CountVectorizer parameters and usage [here](https://scikit-learn.org/stable/modules/generated/sklearn.feature_extraction.text.CountVectorizer.html). Report the accuracy of the trained\n",
        "classifier on the test set. \n",
        "\n",
        "2. Use CountVectorizer with binary counts (set binary flag = True), with other parameters same as before. Using\n",
        "these features, train MultinomialNB classifier with default parameters and report the accuracy of the trained classifier\n",
        "on the test set. Does using binary counts as features improve the classification accuracy?\n",
        "\n",
        "**Hint:** we strongly recommend to use [pandas](https://pandas.pydata.org/docs/getting_started/intro_tutorials/index.html) for reading .csv files and manipulating them in this assignment. "
      ]
    },
    {
      "cell_type": "markdown",
      "metadata": {
        "id": "z96KYOCinVUF"
      },
      "source": [
        "**Task 1:**"
      ]
    },
    {
      "cell_type": "code",
      "execution_count": null,
      "metadata": {
        "id": "GbTInTn8nVUF"
      },
      "outputs": [],
      "source": [
        "import pandas as pd\n",
        "from sklearn.feature_extraction.text import CountVectorizer\n",
        "from sklearn.naive_bayes import MultinomialNB\n",
        "import numpy as np\n",
        "\n",
        "def loadDataFromCSV(filePath):\n",
        "    df = pd.read_csv(filePath)\n",
        "    y = df['sentiment']\n",
        "    x = df['text']\n",
        "    return df, x, y\n",
        "\n",
        "def constructTokenCountMatrix(corpus, target):\n",
        "    vectorizer = CountVectorizer(stop_words = 'english', max_features= 1000)\n",
        "    vectorizer.fit(corpus)\n",
        "    countMax = vectorizer.transform(target)\n",
        "    return countMax\n",
        "\n",
        "def trainMultinomialNaiveBayes(x, y):\n",
        "    clf = MultinomialNB()\n",
        "    clf.fit(x, y)\n",
        "    return clf"
      ]
    },
    {
      "cell_type": "code",
      "execution_count": null,
      "metadata": {
        "colab": {
          "base_uri": "https://localhost:8080/"
        },
        "id": "Dk6z6daUnVUF",
        "outputId": "6c2f87c7-aca1-44f3-da97-153216ba2ccd"
      },
      "outputs": [
        {
          "name": "stdout",
          "output_type": "stream",
          "text": [
            "Multinomial NaiveBayes: The accuracy of the trained classifier is 0.7827298050139275\n"
          ]
        }
      ],
      "source": [
        "# load data from csv\n",
        "df, xTrain, yTrain = loadDataFromCSV('sentiment-train.csv')\n",
        "_, xTest, yTest = loadDataFromCSV('sentiment-test.csv')\n",
        "\n",
        "# construct token count matrix\n",
        "xTrainCountMax = constructTokenCountMatrix(xTrain, xTrain)\n",
        "xTestCountMax = constructTokenCountMatrix(xTrain, xTest)\n",
        "\n",
        "# train mnb model with count matrix\n",
        "mnb = trainMultinomialNaiveBayes(xTrainCountMax, yTrain)\n",
        "\n",
        "# compute the mean accuracy score\n",
        "acc = mnb.score(xTestCountMax, yTest)\n",
        "print('Multinomial NaiveBayes: The accuracy of the trained classifier is', acc)"
      ]
    },
    {
      "cell_type": "markdown",
      "metadata": {
        "id": "0WUWfzypnVUG"
      },
      "source": [
        "**Task 2:**"
      ]
    },
    {
      "cell_type": "code",
      "execution_count": null,
      "metadata": {
        "id": "4JVA2ZkligvU"
      },
      "outputs": [],
      "source": [
        "def constructTokenCountMatrixBinary(corpus, target):\n",
        "    vectorizer_bn = CountVectorizer(stop_words = 'english', max_features= 1000, binary = True)\n",
        "    vectorizer_bn.fit(corpus)\n",
        "    countMax_bn = vectorizer_bn.transform(target)\n",
        "    return countMax_bn"
      ]
    },
    {
      "cell_type": "code",
      "execution_count": null,
      "metadata": {
        "id": "4ihtDO49nVUG",
        "outputId": "79db1384-9ace-41f6-abbc-89ba67f79442"
      },
      "outputs": [
        {
          "name": "stdout",
          "output_type": "stream",
          "text": [
            "Multinomial NaiveBayes with binary counts: The accuracy of the trained classifier is 0.7743732590529248\n"
          ]
        }
      ],
      "source": [
        "# construct token count matrix\n",
        "xTrainCountMax_bn = constructTokenCountMatrixBinary(xTrain, xTrain)\n",
        "xTestCountMax_bn = constructTokenCountMatrixBinary(xTrain, xTest)\n",
        "\n",
        "# train mnb model with count matrix\n",
        "mnb_bn = trainMultinomialNaiveBayes(xTrainCountMax_bn, yTrain)\n",
        "\n",
        "# compute the mean accuracy score\n",
        "acc_bn = mnb_bn.score(xTestCountMat_bn, yTest)\n",
        "print('Multinomial NaiveBayes with binary counts: The accuracy of the trained classifier is', acc_bn)"
      ]
    },
    {
      "cell_type": "markdown",
      "metadata": {
        "id": "wavO0YAmWi__"
      },
      "source": [
        "**Tasks 3 & 4:**\n",
        "3. Using sklearn, train a logistic regression classifier on your training data, using CountVectorizer to featurize your\n",
        "data (with the same parameters as in task 1). Report the accuracy of the trained classifier on the test set.\n",
        "\n",
        "4. Train a logistic regression classifier as before, using binary CountVectorizer to featurize your data. Report the\n",
        "accuracy of the trained classifier on the test set."
      ]
    },
    {
      "cell_type": "markdown",
      "metadata": {
        "id": "RS2ds15QnVUH"
      },
      "source": [
        "**Task 3:**"
      ]
    },
    {
      "cell_type": "code",
      "execution_count": null,
      "metadata": {
        "id": "QXxJ88wpnVUH"
      },
      "outputs": [],
      "source": [
        "from sklearn.linear_model import LogisticRegression"
      ]
    },
    {
      "cell_type": "code",
      "execution_count": null,
      "metadata": {
        "id": "glY_LgIHnVUH"
      },
      "outputs": [],
      "source": [
        "def trainLogistRegression(x, y):\n",
        "    clf = LogisticRegression()\n",
        "    clf.fit(x, y)\n",
        "    return clf"
      ]
    },
    {
      "cell_type": "code",
      "execution_count": null,
      "metadata": {
        "id": "7QhjC5_BnVUH",
        "outputId": "ae19d3e4-8566-42c3-cf98-51f5199cd305"
      },
      "outputs": [
        {
          "name": "stdout",
          "output_type": "stream",
          "text": [
            "Logistic Regression: The accuracy of the trained classifier is 0.766016713091922\n"
          ]
        }
      ],
      "source": [
        "# train logistic regression model with count matrix\n",
        "lr = trainLogistRegression(xTrainCountMax, yTrain)\n",
        "# compute the mean accuracy score\n",
        "acc_lr = lr.score(xTestCountMat, yTest)\n",
        "print('Logistic Regression: The accuracy of the trained classifier is', acc_lr)"
      ]
    },
    {
      "cell_type": "markdown",
      "metadata": {
        "id": "ZiTZnU9hnVUI"
      },
      "source": [
        "**Task 4:**"
      ]
    },
    {
      "cell_type": "code",
      "execution_count": null,
      "metadata": {
        "id": "KFjtFpIDnVUI",
        "outputId": "240fd7a7-8d9c-4e59-b12a-87fdfa451815"
      },
      "outputs": [
        {
          "name": "stdout",
          "output_type": "stream",
          "text": [
            "Logistic Regression with binary counts: The accuracy of the trained classifier is 0.7688022284122563\n"
          ]
        }
      ],
      "source": [
        "# train logistic regression model with count matrix\n",
        "lr_bn = trainLogistRegression(xTrainCountMax_bn, yTrain)\n",
        "# compute the mean accuracy score\n",
        "acc_lr_bn = lr_bn.score(xTestCountMat_bn, yTest)\n",
        "print('Logistic Regression with binary counts: The accuracy of the trained classifier is', acc_lr_bn)"
      ]
    },
    {
      "cell_type": "markdown",
      "metadata": {
        "id": "SynJJotWW8Iq"
      },
      "source": [
        "**Task 5:** After performing the above experiments, which feature extractor and statistical model combination is good for your\n",
        "dataset? Note that this step is called model selection. Read online about the following terminology “model selection”\n",
        "and “development set” a.k.a. “validation set” and describe if it is okay to do model selection on the test set.\n",
        "\n",
        "**Your answer here:**\n",
        "In this assignment, I find Multinomial Naive Bayes classifier model has better performance than Logistic Regression model. \n",
        "We cannot do model selection on the test set since the test data should be unseen, which should be the final step in evaluating model's performance.\n",
        "\n",
        "**Task 6 & 7:**\n",
        "6. Conduct 10-fold cross validation experiments on your training data: training a Multinomial NB classifier\n",
        "with CountVectorizer and different max features (= 1000, 2000, 3000, or 4000) with and without binary counts.\n",
        "Report the average accuracies of these different max features and binary/not binary across folds.\n",
        "\n",
        "7. Select the combination of max features value and binary/not binary count choice that has the highest average\n",
        "accuracy in your cross-validation experiments and train a Multinomial NB classifier on your whole training data\n",
        "using this parameter to featurize your data. Report the accuracy of this trained classifier on the test set.\n",
        "\n",
        "**Hint:** Consider Stratified K-Folds for task 6."
      ]
    },
    {
      "cell_type": "markdown",
      "metadata": {
        "id": "d6YLqxIAnVUI"
      },
      "source": [
        "**Task 6:**"
      ]
    },
    {
      "cell_type": "code",
      "execution_count": 100,
      "metadata": {
        "id": "jgrc_nWlnVUJ"
      },
      "outputs": [],
      "source": [
        "from sklearn.model_selection import StratifiedKFold\n",
        "from sklearn.model_selection import cross_val_score\n",
        "import csv\n",
        "import numpy as np"
      ]
    },
    {
      "cell_type": "code",
      "execution_count": 102,
      "metadata": {
        "id": "lmDxC_hAnVUJ"
      },
      "outputs": [],
      "source": [
        "train_text = []\n",
        "train_label = []\n",
        "with open('/sentiment-train.csv') as f:\n",
        "    reader = csv.reader(f)\n",
        "    next(reader)\n",
        "    for line in reader:\n",
        "        label, text = line\n",
        "        train_text.append(text)\n",
        "        train_label.append(label)"
      ]
    },
    {
      "cell_type": "code",
      "execution_count": 103,
      "metadata": {
        "id": "-tjKA86HnVUJ"
      },
      "outputs": [],
      "source": [
        "test_text = []\n",
        "test_label = []\n",
        "with open('/sentiment-test.csv') as f:\n",
        "    reader = csv.reader(f)\n",
        "    next(reader)\n",
        "    for line in reader:\n",
        "        label, text = line\n",
        "        test_text.append(text)\n",
        "        test_label.append(label)"
      ]
    },
    {
      "cell_type": "code",
      "execution_count": null,
      "metadata": {
        "id": "LizXROcJnVUK"
      },
      "outputs": [],
      "source": [
        "def trans_data(train_text, test_text, Vectorizer, max_features):\n",
        "    vectorizer = Vectorizer(stop_words=\"english\", max_features = max_features)\n",
        "    vectorizer.fit(train_text)\n",
        "    train_data = vectorizer.transform(train_text)\n",
        "    test_data = vectorizer.transform(test_text)\n",
        "    return train_data,test_data"
      ]
    },
    {
      "cell_type": "code",
      "execution_count": null,
      "metadata": {
        "id": "pIM6kuhsnVUK"
      },
      "outputs": [],
      "source": [
        "# without binary\n",
        "def kfold_valid(train_text, test_text, max_features=1000):\n",
        "    train_data,test_data = trans_data(train_text, test_text, CountVectorizer, max_features=max_features)\n",
        "    cv = StratifiedKFold(n_splits=10, random_state=None, shuffle=False)\n",
        "    scores = cross_val_score(MultinomialNB(), train_data, train_label, scoring='accuracy', cv=cv)\n",
        "    print('Accuracy with {} features, binary feature is False: {}'.format(max_features, np.mean(scores)))"
      ]
    },
    {
      "cell_type": "code",
      "execution_count": null,
      "metadata": {
        "colab": {
          "base_uri": "https://localhost:8080/"
        },
        "id": "ICK6lGMFnVUK",
        "outputId": "3f35e272-9bdf-47a8-ea99-f73bfe743816"
      },
      "outputs": [
        {
          "name": "stdout",
          "output_type": "stream",
          "text": [
            "Accuracy with 1000 features, binary feature is False: 0.71875\n",
            "Accuracy with 2000 features, binary feature is False: 0.73075\n",
            "Accuracy with 3000 features, binary feature is False: 0.7338833333333333\n",
            "Accuracy with 4000 features, binary feature is False: 0.7353666666666667\n"
          ]
        }
      ],
      "source": [
        "kfold_valid(train_text, test_text, max_features=1000)\n",
        "kfold_valid(train_text, test_text, max_features=2000)\n",
        "kfold_valid(train_text, test_text, max_features=3000)\n",
        "kfold_valid(train_text, test_text, max_features=4000)"
      ]
    },
    {
      "cell_type": "code",
      "execution_count": null,
      "metadata": {
        "id": "hl9KKuGwnVUK"
      },
      "outputs": [],
      "source": [
        "# with binary\n",
        "def kfold_valid_bn(train_text, test_text, max_features=1000):\n",
        "    train_data,test_data = trans_data(train_text, test_text, CountVectorizer, max_features=max_features)\n",
        "    cv = StratifiedKFold(n_splits=10, random_state=10, shuffle=True)\n",
        "    scores = cross_val_score(MultinomialNB(), train_data, train_label, scoring='accuracy', cv=cv)\n",
        "    print('Accuracy with {} features, binary feature is True: {}'.format(max_features, np.mean(scores)))"
      ]
    },
    {
      "cell_type": "code",
      "execution_count": null,
      "metadata": {
        "colab": {
          "base_uri": "https://localhost:8080/"
        },
        "id": "k6zjQ4E9nVUL",
        "outputId": "d605b3f0-cb9e-4c70-fb05-3298032a49d5"
      },
      "outputs": [
        {
          "name": "stdout",
          "output_type": "stream",
          "text": [
            "Accuracy with 1000 features, binary feature is True: 0.7228166666666667\n",
            "Accuracy with 2000 features, binary feature is True: 0.7366833333333334\n",
            "Accuracy with 3000 features, binary feature is True: 0.7414666666666666\n",
            "Accuracy with 4000 features, binary feature is True: 0.7439499999999999\n"
          ]
        }
      ],
      "source": [
        "kfold_valid_bn(train_text, test_text, max_features=1000)\n",
        "kfold_valid_bn(train_text, test_text, max_features=2000)\n",
        "kfold_valid_bn(train_text, test_text, max_features=3000)\n",
        "kfold_valid_bn(train_text, test_text, max_features=4000)"
      ]
    },
    {
      "cell_type": "markdown",
      "metadata": {
        "id": "DK3A-oCWnVUL"
      },
      "source": [
        "**Task 7:**"
      ]
    },
    {
      "cell_type": "code",
      "execution_count": null,
      "metadata": {
        "id": "TutxYuPHnVUL"
      },
      "outputs": [],
      "source": [
        "def trans_data_bn(train_text, test_text, Vectorizer, max_features):\n",
        "    vectorizer = Vectorizer(stop_words=\"english\", max_features = max_features, binary = True)\n",
        "    vectorizer.fit(train_text)\n",
        "    train_data = vectorizer.transform(train_text)\n",
        "    test_data = vectorizer.transform(test_text)\n",
        "    return train_data,test_data"
      ]
    },
    {
      "cell_type": "code",
      "execution_count": null,
      "metadata": {
        "id": "TCDjJpKXnVUL"
      },
      "outputs": [],
      "source": [
        "def predict_sentiment_bn(train_text, test_text, Classifier, Vectorizer, max_features=1000):\n",
        "    train_data,test_data = trans_data_bn(train_text, test_text, Vectorizer, max_features=max_features)\n",
        "    clf = Classifier()\n",
        "    clf.fit(train_data, train_label)\n",
        "    score = clf.score(test_data, test_label)\n",
        "    print(\"Classifier: {}\\nBest max feature: {}\\nscore: {}\".format(Classifier.__name__, max_features, score))\n",
        "    return score"
      ]
    },
    {
      "cell_type": "code",
      "execution_count": null,
      "metadata": {
        "colab": {
          "base_uri": "https://localhost:8080/"
        },
        "id": "zy9esymHnVUL",
        "outputId": "0a68191e-759d-4e37-ed08-7b8bcab7007a"
      },
      "outputs": [
        {
          "name": "stdout",
          "output_type": "stream",
          "text": [
            "Classifier: MultinomialNB\n",
            "Best max feature: 4000\n",
            "score: 0.7715877437325905\n"
          ]
        }
      ],
      "source": [
        "score = predict_sentiment_bn(train_text, test_text, MultinomialNB, CountVectorizer, max_features=4000)"
      ]
    },
    {
      "cell_type": "markdown",
      "metadata": {
        "id": "0uJAC9DlX8ym"
      },
      "source": [
        "**Task 8 & 9 & 10:**\n",
        "\n",
        "8. Use [gensim](https://radimrehurek.com/gensim/models/word2vec.html) library to learn 300-dimensional word2vec representations from the tokenized tweets (you can use\n",
        "Spacy for tokenizing tweets) in your training data (you can use default parameters).\n",
        "9. Given the learned word2vec representations, construct a vector representation of each tweet as the average of all\n",
        "the word vectors in the tweet. Ignore words that do not have vector representations – since by default gensim\n",
        "word2vec model only learns vector representations for words that appear at least 5 times across the train set.\n",
        "10. Train a logistic regression classifier using the above vector representation of tweets as your features. Report\n",
        "the accuracy of the trained classifier on the test set. Does dense feature representation improve the accuracy of\n",
        "your logistic regression classifier?"
      ]
    },
    {
      "cell_type": "markdown",
      "metadata": {
        "id": "RXiq0olgnVUM"
      },
      "source": [
        "**Task 8:**"
      ]
    },
    {
      "cell_type": "code",
      "execution_count": 28,
      "metadata": {
        "colab": {
          "base_uri": "https://localhost:8080/"
        },
        "id": "8RIm8OrinVUM",
        "outputId": "c6145043-8892-4381-b583-c17b9a8c4d6b"
      },
      "outputs": [
        {
          "output_type": "stream",
          "name": "stdout",
          "text": [
            "Looking in indexes: https://pypi.org/simple, https://us-python.pkg.dev/colab-wheels/public/simple/\n",
            "Requirement already satisfied: gensim in /usr/local/lib/python3.7/dist-packages (3.6.0)\n",
            "Requirement already satisfied: six>=1.5.0 in /usr/local/lib/python3.7/dist-packages (from gensim) (1.15.0)\n",
            "Requirement already satisfied: numpy>=1.11.3 in /usr/local/lib/python3.7/dist-packages (from gensim) (1.21.6)\n",
            "Requirement already satisfied: scipy>=0.18.1 in /usr/local/lib/python3.7/dist-packages (from gensim) (1.7.3)\n",
            "Requirement already satisfied: smart-open>=1.2.1 in /usr/local/lib/python3.7/dist-packages (from gensim) (5.2.1)\n"
          ]
        }
      ],
      "source": [
        "!pip install gensim"
      ]
    },
    {
      "cell_type": "code",
      "execution_count": null,
      "metadata": {
        "colab": {
          "base_uri": "https://localhost:8080/"
        },
        "id": "yXuSNc1CnjIH",
        "outputId": "31bf40ed-df48-4be2-fd06-7da3b278a217"
      },
      "outputs": [
        {
          "output_type": "stream",
          "name": "stdout",
          "text": [
            "Drive already mounted at /content/drive; to attempt to forcibly remount, call drive.mount(\"/content/drive\", force_remount=True).\n"
          ]
        }
      ],
      "source": [
        "from google.colab import drive\n",
        "drive.mount('/content/drive')"
      ]
    },
    {
      "cell_type": "code",
      "execution_count": 29,
      "metadata": {
        "id": "_8KaMfQ1nVUM"
      },
      "outputs": [],
      "source": [
        "from gensim.test.utils import common_texts\n",
        "from gensim.models import Word2Vec\n",
        "import spacy\n",
        "nlp = spacy.load('en_core_web_sm')\n",
        "import nltk"
      ]
    },
    {
      "cell_type": "code",
      "execution_count": 30,
      "metadata": {
        "colab": {
          "base_uri": "https://localhost:8080/"
        },
        "id": "4iO-TFxz0N4t",
        "outputId": "758884e4-0cfb-46a0-ab0a-d02ed25aa959"
      },
      "outputs": [
        {
          "output_type": "stream",
          "name": "stderr",
          "text": [
            "[nltk_data] Downloading package punkt to /root/nltk_data...\n",
            "[nltk_data]   Unzipping tokenizers/punkt.zip.\n"
          ]
        },
        {
          "output_type": "execute_result",
          "data": {
            "text/plain": [
              "True"
            ]
          },
          "metadata": {},
          "execution_count": 30
        }
      ],
      "source": [
        "nltk.download('punkt')"
      ]
    },
    {
      "cell_type": "code",
      "execution_count": 31,
      "metadata": {
        "id": "GlMZxZnun-O2"
      },
      "outputs": [],
      "source": [
        "def tokenize(text_list, remove_stop = False):\n",
        "    token_list = []\n",
        "    for line in text_list:\n",
        "        sent = nltk.word_tokenize(line)\n",
        "        res = []\n",
        "        for word in sent:\n",
        "            if remove_stop and word in nlp.Defaults.stop_words:\n",
        "                continue\n",
        "            res.append(word.lower())\n",
        "        token_list.append(res)\n",
        "    return token_list"
      ]
    },
    {
      "cell_type": "markdown",
      "metadata": {
        "id": "uQFt33pqsSsn"
      },
      "source": [
        "**Task 9:**"
      ]
    },
    {
      "cell_type": "code",
      "execution_count": null,
      "metadata": {
        "id": "4Qs8Ns4Vt5ey"
      },
      "outputs": [],
      "source": [
        "def trans2Vec(data, model):\n",
        "    vectors = []\n",
        "    for sent in data:\n",
        "        word_vectors = []\n",
        "        for word in sent:\n",
        "            if word in model.wv:\n",
        "                word_vectors.append(model.wv[word])\n",
        "        if len(word_vectors) > 0:\n",
        "            vector = np.mean(word_vectors, axis = 0)\n",
        "        else:\n",
        "            vector = np.zeros(300)\n",
        "        vectors.append(vector)\n",
        "    return vectors"
      ]
    },
    {
      "cell_type": "markdown",
      "metadata": {
        "id": "GnqaqQTysSsn"
      },
      "source": [
        "**Task 10:**"
      ]
    },
    {
      "cell_type": "code",
      "execution_count": null,
      "metadata": {
        "id": "BzbTrmdNvAmy"
      },
      "outputs": [],
      "source": [
        "def predict_accuracy(train_text, test_text, model, remove_stop):\n",
        "    train_data = tokenize(train_text, remove_stop=remove_stop)\n",
        "    test_data = tokenize(test_text, remove_stop=remove_stop)\n",
        "    train_vectors = trans2Vec(train_data, model)\n",
        "    test_vectors = trans2Vec(test_data, model)\n",
        "    clf = LogisticRegression(max_iter = 1000)\n",
        "    clf.fit(train_vectors, train_label)\n",
        "    score = clf.score(test_vectors, test_label)\n",
        "    if not remove_stop:\n",
        "        print(\"the Accuracy of the trained classifier is {}\".format(score))\n",
        "    else:\n",
        "        print(\"Remove stop words, Word2Vec LR score: {}\".format(score))\n"
      ]
    },
    {
      "cell_type": "code",
      "execution_count": 104,
      "metadata": {
        "id": "3ujSGd87ymYW"
      },
      "outputs": [],
      "source": [
        "train_data = tokenize(train_text)\n",
        "model = Word2Vec(sentences = train_data, size = 300, window = 5, min_count = 5)\n",
        "model.save(\"word2vec.model\")"
      ]
    },
    {
      "cell_type": "code",
      "execution_count": null,
      "metadata": {
        "colab": {
          "base_uri": "https://localhost:8080/"
        },
        "id": "55P7LLXT1Ccr",
        "outputId": "d8c654a9-699c-4003-c7d0-d5d5e05b623f"
      },
      "outputs": [
        {
          "name": "stdout",
          "output_type": "stream",
          "text": [
            "the Accuracy of the trained classifier is 0.6629526462395543\n"
          ]
        }
      ],
      "source": [
        "predict_accuracy(train_text, test_text, model, remove_stop=False)"
      ]
    },
    {
      "cell_type": "code",
      "execution_count": null,
      "metadata": {
        "colab": {
          "base_uri": "https://localhost:8080/"
        },
        "id": "e1F6xQIn0jNy",
        "outputId": "03b99a34-fceb-474b-d977-21386146f80d"
      },
      "outputs": [
        {
          "name": "stdout",
          "output_type": "stream",
          "text": [
            "Remove stop words, Word2Vec LR score: 0.6713091922005571\n"
          ]
        }
      ],
      "source": [
        "predict_accuracy(train_text, test_text, model, remove_stop=True)"
      ]
    },
    {
      "cell_type": "code",
      "execution_count": null,
      "metadata": {
        "colab": {
          "base_uri": "https://localhost:8080/"
        },
        "id": "n98qRGseplJf",
        "outputId": "ac6db993-15dd-47de-dea9-f9bbf3992f27"
      },
      "outputs": [
        {
          "name": "stderr",
          "output_type": "stream",
          "text": [
            "/usr/local/lib/python3.7/dist-packages/sklearn/linear_model/_logistic.py:818: ConvergenceWarning: lbfgs failed to converge (status=1):\n",
            "STOP: TOTAL NO. of ITERATIONS REACHED LIMIT.\n",
            "\n",
            "Increase the number of iterations (max_iter) or scale the data as shown in:\n",
            "    https://scikit-learn.org/stable/modules/preprocessing.html\n",
            "Please also refer to the documentation for alternative solver options:\n",
            "    https://scikit-learn.org/stable/modules/linear_model.html#logistic-regression\n",
            "  extra_warning_msg=_LOGISTIC_SOLVER_CONVERGENCE_MSG,\n"
          ]
        },
        {
          "name": "stdout",
          "output_type": "stream",
          "text": [
            "the Accuracy of the trained classifier is: 65.74%\n",
            "the Accuracy of the trained classifier is: 69.64%\n"
          ]
        },
        {
          "name": "stderr",
          "output_type": "stream",
          "text": [
            "/usr/local/lib/python3.7/dist-packages/sklearn/linear_model/_logistic.py:818: ConvergenceWarning: lbfgs failed to converge (status=1):\n",
            "STOP: TOTAL NO. of ITERATIONS REACHED LIMIT.\n",
            "\n",
            "Increase the number of iterations (max_iter) or scale the data as shown in:\n",
            "    https://scikit-learn.org/stable/modules/preprocessing.html\n",
            "Please also refer to the documentation for alternative solver options:\n",
            "    https://scikit-learn.org/stable/modules/linear_model.html#logistic-regression\n",
            "  extra_warning_msg=_LOGISTIC_SOLVER_CONVERGENCE_MSG,\n"
          ]
        }
      ],
      "source": [
        "# Your results should look similar to this: (\"the Accuracy of the trained classifier is: ...\" below)"
      ]
    },
    {
      "cell_type": "markdown",
      "metadata": {
        "id": "VnB5z-ZoZEa5"
      },
      "source": [
        "**Part 2: PCA Analysis of Shakepear's Plays.**\n",
        "\n",
        "The file: will play text.csv contains lines from William Shakespeare’s plays. The second column of the file contains the name of\n",
        "the play, while the fifth and the sixth contain the name of the character who spoke and what they spoke, respectively. Tokenize\n",
        "and lower case each line in will play text.csv using spacy. The file vocab.txt lists the words in the vocabulary. play_categories.csv stores the categories of the Shakepear's plays.\n",
        "\n",
        "Task 11 & 12 & 13:\n",
        "11. Create a term-document matrix where each row represents a word in the vocabulary and each column represents\n",
        "a play. Each entry in this matrix represents the number of times a particular word (defined by the row) occurs in a\n",
        "particular play (defined by the column). Use CountVectorizer in sklearn to create the matrix, using the file vocab.txt as\n",
        "input for the vocabulary parameter. From your term-document matrix, use PCA in sklearn to create a 2-dimensional\n",
        "representation of each play. Visualize these representations to see which plays are most similar to each other. Include the\n",
        "visualization in your answer sheet. You can follow the tutorial [here](https://machinelearningmastery.com/develop-word-embeddings-python-gensim/) to create the visualization (look at the \"PCA\" part).\n",
        "\n",
        "12. What plays are similar to each other? Do they match the grouping of Shakespeare’s plays into comedies, histories,\n",
        "and tragedies here?\n",
        "\n",
        "  **Your answer here:**\n",
        "\n",
        "13. Create another term-document matrix where each row represents a word in the vocabulary and each column\n",
        "represents a play, but with TFIDF counts (using TFIDFVectorizer in sklearn and vocab.txt for vocabulary). Use PCA\n",
        "again on these TFIDF term-document matrix and visualize the plays. Include the visualization in your answer sheet.\n",
        "\n",
        "**Hints:** the PCA function in sklearn doesn't work for sparse inputs, try 'TruncatedSVD' instead. \n",
        "\n"
      ]
    },
    {
      "cell_type": "markdown",
      "metadata": {
        "id": "GRCAz1eAsSso"
      },
      "source": [
        "**Task 11:**"
      ]
    },
    {
      "cell_type": "code",
      "execution_count": 2,
      "metadata": {
        "id": "kqzbLgZtsSsp"
      },
      "outputs": [],
      "source": [
        "import csv"
      ]
    },
    {
      "cell_type": "code",
      "execution_count": 4,
      "metadata": {
        "id": "Xk95ypcksSsp"
      },
      "outputs": [],
      "source": [
        "text_list = []\n",
        "with open('/will_play_text.csv') as f:\n",
        "    reader = csv.reader(f,delimiter=';')\n",
        "    for line in reader:\n",
        "        text_list.append(line)"
      ]
    },
    {
      "cell_type": "code",
      "execution_count": 5,
      "metadata": {
        "colab": {
          "base_uri": "https://localhost:8080/"
        },
        "id": "ESQSpDIBsSsp",
        "outputId": "8852e20f-34f1-4944-a1d3-e69c5c78cbdd"
      },
      "outputs": [
        {
          "output_type": "stream",
          "name": "stdout",
          "text": [
            "Number of plays: 36\n"
          ]
        }
      ],
      "source": [
        "play_genres = []\n",
        "with open('/play_genres.csv') as f:\n",
        "    contents = f.readlines()[1:] \n",
        "    reader = csv.reader(contents,delimiter=';')\n",
        "    for line in reader:\n",
        "        play_genres.append(line)\n",
        "print(\"Number of plays: {}\".format(len(play_genres)))"
      ]
    },
    {
      "cell_type": "code",
      "execution_count": 6,
      "metadata": {
        "id": "Ybl6DGgssSsq"
      },
      "outputs": [],
      "source": [
        "vocab = []\n",
        "with open('/vocab.txt') as f:\n",
        "    for line in f:\n",
        "        vocab.append(line.strip())"
      ]
    },
    {
      "cell_type": "code",
      "execution_count": 7,
      "metadata": {
        "id": "54_No6a9sSsq"
      },
      "outputs": [],
      "source": [
        "\n",
        "word_to_index = {word: i for i, word in enumerate(vocab)}\n",
        "index_to_word = [word for i, word in enumerate(word_to_index)]"
      ]
    },
    {
      "cell_type": "code",
      "execution_count": 8,
      "metadata": {
        "id": "8KxL1yK6sSsq"
      },
      "outputs": [],
      "source": [
        "play_to_text = {}\n",
        "for data in text_list:\n",
        "    name = data[1]\n",
        "    talk = data[5]\n",
        "    for word in play_genres:\n",
        "        genres = word[0]\n",
        "        if name in genres:\n",
        "            if name not in play_to_text:\n",
        "                play_to_text[name] = []\n",
        "                play_to_text[name].append(talk)\n",
        "            else:\n",
        "                play_to_text[name].append(talk)"
      ]
    },
    {
      "cell_type": "code",
      "execution_count": 9,
      "metadata": {
        "id": "bVRTUKHKsSsq"
      },
      "outputs": [],
      "source": [
        "play_text = []\n",
        "play_names = []\n",
        "for k, v in play_to_text.items():\n",
        "    play_text.append(' '.join(v))\n",
        "    play_names.append(k)"
      ]
    },
    {
      "cell_type": "markdown",
      "metadata": {
        "id": "CdOFcxC9sSsq"
      },
      "source": [
        "**Task 12: CountVectorizer PCA**"
      ]
    },
    {
      "cell_type": "code",
      "execution_count": 10,
      "metadata": {
        "id": "dq-eqbcVsSsq"
      },
      "outputs": [],
      "source": [
        "from sklearn.decomposition import PCA\n",
        "from matplotlib import pyplot as plt\n",
        "from sklearn.feature_extraction.text import CountVectorizer"
      ]
    },
    {
      "cell_type": "code",
      "execution_count": 11,
      "metadata": {
        "colab": {
          "base_uri": "https://localhost:8080/"
        },
        "id": "cOpeE5wksSsq",
        "outputId": "fee2cec0-c203-483f-c116-b7332fbb060f"
      },
      "outputs": [
        {
          "output_type": "stream",
          "name": "stdout",
          "text": [
            "(36, 22602)\n"
          ]
        }
      ],
      "source": [
        "vectorizer = CountVectorizer(stop_words=\"english\", vocabulary = vocab)\n",
        "vectorizer.fit(play_text)\n",
        "term_doc = vectorizer.transform(play_text)\n",
        "print(term_doc.shape)"
      ]
    },
    {
      "cell_type": "code",
      "execution_count": 12,
      "metadata": {
        "id": "kjqVrBzNsSsr"
      },
      "outputs": [],
      "source": [
        "pca = PCA(n_components=2)\n",
        "term_doc_pca = pca.fit_transform(term_doc.toarray())"
      ]
    },
    {
      "cell_type": "code",
      "execution_count": 13,
      "metadata": {
        "colab": {
          "base_uri": "https://localhost:8080/",
          "height": 483
        },
        "id": "dhTMaYU4sSsr",
        "outputId": "78ae8560-0dfd-4d9c-9135-a0d89dc7608d"
      },
      "outputs": [
        {
          "output_type": "display_data",
          "data": {
            "text/plain": [
              "<Figure size 1008x576 with 1 Axes>"
            ],
            "image/png": "[encoded data removed]"
          },
          "metadata": {
            "needs_background": "light"
          }
        }
      ],
      "source": [
        "plt.figure(figsize=(14,8))\n",
        "plt.scatter(term_doc_pca[:, 0], term_doc_pca[:, 1])\n",
        "for i, name in enumerate(play_names):\n",
        "    plt.annotate(name, xy=(term_doc_pca[i, 0], term_doc_pca[i, 1]))\n",
        "plt.savefig(\"plays_countVec.png\")\n",
        "plt.show()"
      ]
    },
    {
      "cell_type": "markdown",
      "metadata": {
        "id": "Zg55JlmfsSsr"
      },
      "source": [
        "**Task 13: TfidVectorizer PCA**"
      ]
    },
    {
      "cell_type": "code",
      "execution_count": 14,
      "metadata": {
        "id": "RzUcr7MysSsr"
      },
      "outputs": [],
      "source": [
        "from sklearn.feature_extraction.text import TfidfVectorizer"
      ]
    },
    {
      "cell_type": "code",
      "execution_count": 15,
      "metadata": {
        "colab": {
          "base_uri": "https://localhost:8080/"
        },
        "id": "ffZLvS3JsSsr",
        "outputId": "efda3e8a-980e-4941-8ac1-6352363d8c55"
      },
      "outputs": [
        {
          "output_type": "stream",
          "name": "stdout",
          "text": [
            "(36, 22602)\n"
          ]
        }
      ],
      "source": [
        "vectorizer = TfidfVectorizer(stop_words = \"english\", vocabulary = vocab)\n",
        "vectorizer.fit(play_text)\n",
        "term_doc = vectorizer.transform(play_text)\n",
        "print(term_doc.shape)"
      ]
    },
    {
      "cell_type": "code",
      "execution_count": 16,
      "metadata": {
        "id": "HRJkQg-KsSsr"
      },
      "outputs": [],
      "source": [
        "pca = PCA(n_components=2)\n",
        "term_doc_pca = pca.fit_transform(term_doc.toarray())"
      ]
    },
    {
      "cell_type": "code",
      "execution_count": 17,
      "metadata": {
        "colab": {
          "base_uri": "https://localhost:8080/",
          "height": 483
        },
        "id": "M-6XXpUAsSsr",
        "outputId": "6b090e42-da43-45e2-a686-9966fb5f0fa2"
      },
      "outputs": [
        {
          "output_type": "display_data",
          "data": {
            "text/plain": [
              "<Figure size 1008x576 with 1 Axes>"
            ],
            "image/png": "[encoded data removed]"
          },
          "metadata": {
            "needs_background": "light"
          }
        }
      ],
      "source": [
        "plt.figure(figsize=(14,8))\n",
        "plt.scatter(term_doc_pca[:, 0], term_doc_pca[:, 1])\n",
        "for i, name in enumerate(play_names):\n",
        "    plt.annotate(name, xy=(term_doc_pca[i, 0], term_doc_pca[i, 1]))\n",
        "plt.savefig(\"plays_tfidfVec.png\")\n",
        "plt.show()"
      ]
    },
    {
      "cell_type": "markdown",
      "metadata": {
        "id": "fNMZ8AfPbVEY"
      },
      "source": [
        "**Task 14 & 15:**\n",
        "14. Create a word-word matrix where each row (and each column) represents a word in the vocabulary (vocab.txt).\n",
        "Each entry in this matrix represents the number of times a particular word (defined by the row) co-occurs with another\n",
        "word (defined by the column) in a sentence (i.e., line in will play text.csv). Using the row word vectors, create a representation\n",
        "of a play as the average of all the word vectors in the play. Use these vector representations of plays to compute\n",
        "average pairwise cosine-similarity between plays that are comedies (do not include self-similarities). You can use the\n",
        "grouping of plays in here.\n",
        "\n",
        "15. Using vector representations of plays computed in task 14, compute average pairwise cosine-similarity between\n",
        "plays that are histories, and between plays that are tragedies (do not include self-similarities).\n",
        "\n",
        "Hint: \n",
        "[How to calculate a word-word-co-occurence-matrix with sklearn](https://stackoverflow.com/questions/35562789/how-do-i-calculate-a-word-word-co-occurrence-matrix-with-sklearn)."
      ]
    },
    {
      "cell_type": "markdown",
      "metadata": {
        "id": "6A3tw04LsSss"
      },
      "source": [
        "**Task 14: Word-word Matrix**"
      ]
    },
    {
      "cell_type": "code",
      "execution_count": 18,
      "metadata": {
        "id": "kMozDazmsSst"
      },
      "outputs": [],
      "source": [
        "line_text = []\n",
        "for i, data in enumerate(text_list[:]):\n",
        "    talk = data[5].lower()\n",
        "    line_text.append(talk)"
      ]
    },
    {
      "cell_type": "code",
      "execution_count": 19,
      "metadata": {
        "colab": {
          "base_uri": "https://localhost:8080/"
        },
        "id": "abEHXQBZsSst",
        "outputId": "2a1397f8-4763-4afc-8b82-b7c294e44fe0"
      },
      "outputs": [
        {
          "output_type": "stream",
          "name": "stdout",
          "text": [
            "(111396, 22602)\n"
          ]
        }
      ],
      "source": [
        "vectorizer = CountVectorizer(stop_words=\"english\", vocabulary = vocab)\n",
        "term_doc = vectorizer.fit_transform(line_text)\n",
        "print(term_doc.shape)"
      ]
    },
    {
      "cell_type": "code",
      "execution_count": 20,
      "metadata": {
        "colab": {
          "base_uri": "https://localhost:8080/"
        },
        "id": "5XlZmaaDsSsu",
        "outputId": "85607e9c-da9d-4eba-b38c-ba57627f29a2"
      },
      "outputs": [
        {
          "output_type": "stream",
          "name": "stderr",
          "text": [
            "/usr/local/lib/python3.7/dist-packages/scipy/sparse/_index.py:125: SparseEfficiencyWarning: Changing the sparsity structure of a csc_matrix is expensive. lil_matrix is more efficient.\n",
            "  self._set_arrayXarray(i, j, x)\n"
          ]
        },
        {
          "output_type": "stream",
          "name": "stdout",
          "text": [
            "(22602, 22602)\n"
          ]
        }
      ],
      "source": [
        "word_word = (term_doc.T * term_doc)\n",
        "word_word.setdiag(0)\n",
        "word_word_matrix = word_word.toarray()\n",
        "print(word_word_matrix.shape)"
      ]
    },
    {
      "cell_type": "code",
      "execution_count": 21,
      "metadata": {
        "id": "I9tK1VCasSsu"
      },
      "outputs": [],
      "source": [
        "word_to_vector = {}\n",
        "for i in range(word_word_matrix.shape[0]):\n",
        "    word_to_vector[index_to_word[i]] = word_word_matrix[i]"
      ]
    },
    {
      "cell_type": "markdown",
      "metadata": {
        "id": "eR22HXf-sSsu"
      },
      "source": [
        "**Task 15: Plays Cosine Similarity**"
      ]
    },
    {
      "cell_type": "code",
      "source": [
        "import numpy as np"
      ],
      "metadata": {
        "id": "bPEWkg7WOG-P"
      },
      "execution_count": 33,
      "outputs": []
    },
    {
      "cell_type": "code",
      "source": [
        "from sklearn.metrics.pairwise import cosine_similarity\n",
        "from itertools import combinations"
      ],
      "metadata": {
        "id": "Ui95UKZ-OwFC"
      },
      "execution_count": 22,
      "outputs": []
    },
    {
      "cell_type": "code",
      "execution_count": null,
      "metadata": {
        "id": "FCK0X7-usSsu"
      },
      "outputs": [],
      "source": [
        "import numpy as np\n",
        "play_vectors = {}\n",
        "#print(word_to_vector)\n",
        "for keys, values in play_to_text.items():\n",
        "    #print(keys)\n",
        "    #print(values)\n",
        "    word_vectors = []\n",
        "    word_vectors = np.array(word_vectors)\n",
        "    #print(values)\n",
        "    values = ' '.join(values)\n",
        "    cnt = 0;\n",
        "    for word in values.lower().split():\n",
        "    #    fg = 1\n",
        "    #    break\n",
        "        if word in word_to_index:\n",
        "            cnt += 1\n",
        "            if len(word_vectors) == 0:\n",
        "                word_vectors = word_to_vector[word]\n",
        "            else:\n",
        "                word_vectors = word_vectors + word_to_vector[word]\n",
        "    #print(cnt)\n",
        "    play_vectors[keys] = word_vectors / cnt\n",
        "    print(play_vectors[keys])"
      ]
    },
    {
      "cell_type": "code",
      "source": [
        "def cos_sim(a, b):\n",
        "    x = np.sum(np.array(a) * np.array(b), axis=0)\n",
        "    y = np.linalg.norm(a) * np.linalg.norm(b)\n",
        "    return x / y"
      ],
      "metadata": {
        "id": "6f_VV9N3PenI"
      },
      "execution_count": 23,
      "outputs": []
    },
    {
      "cell_type": "code",
      "source": [
        "play_genres_split = []\n",
        "for sub_list in play_genres:\n",
        "    for item in sub_list:\n",
        "        play_genres_split.append(item.split(','))\n",
        "        \n",
        "comedies = []\n",
        "histories = []\n",
        "tragedies = []\n",
        "\n",
        "for sub_lst in play_genres_split :\n",
        "    if ' comedies' in sub_lst:\n",
        "        comedies.append(sub_lst[0])\n",
        "    elif ' histories' in sub_lst:\n",
        "        histories.append(sub_lst[0])\n",
        "    elif ' tragedies' in sub_lst:\n",
        "        tragedies.append(sub_lst[0])"
      ],
      "metadata": {
        "id": "Gpu94IqJs2jV"
      },
      "execution_count": 65,
      "outputs": []
    },
    {
      "cell_type": "code",
      "source": [
        "comedies_paris = list(combinations(comedies, 2))\n",
        "comedies_sim = []\n",
        "for (a, b) in comedies_paris:\n",
        "    v1 = play_vectors[a]\n",
        "    v2 = play_vectors[b]\n",
        "    comedies_sim.append(cos_sim(v1, v2))\n",
        "print(\"play as word average  comedies {}\".format(np.mean(comedies_sim)))"
      ],
      "metadata": {
        "colab": {
          "base_uri": "https://localhost:8080/"
        },
        "id": "rovaNJuHD3SK",
        "outputId": "3c4857e3-be55-4ace-ff15-3f80ab9b976c"
      },
      "execution_count": 71,
      "outputs": [
        {
          "output_type": "stream",
          "name": "stdout",
          "text": [
            "play as word average  comedies 0.9897228892040232\n"
          ]
        }
      ]
    },
    {
      "cell_type": "code",
      "source": [
        "histories_paris = list(combinations(histories, 2))\n",
        "histories_sim = []\n",
        "for (a, b) in histories_paris:\n",
        "    v1 = play_vectors[a]\n",
        "    v2 = play_vectors[b]\n",
        "    histories_sim.append(cos_sim(v1, v2))\n",
        "print(\"play as word average  histories {}\".format(np.mean(histories_sim)))"
      ],
      "metadata": {
        "colab": {
          "base_uri": "https://localhost:8080/"
        },
        "id": "8_988ZyFR86m",
        "outputId": "e783e672-139c-45e3-d4ea-4c3a80a37601"
      },
      "execution_count": 72,
      "outputs": [
        {
          "output_type": "stream",
          "name": "stdout",
          "text": [
            "play as word average  histories 0.9826865350568943\n"
          ]
        }
      ]
    },
    {
      "cell_type": "code",
      "source": [
        "tragedies_paris = list(combinations(tragedies, 2))\n",
        "tragedies_sim = []\n",
        "for (a, b) in tragedies_paris:\n",
        "    v1 = play_vectors[a]\n",
        "    v2 = play_vectors[b]\n",
        "    tragedies_sim.append(cos_sim(v1, v2))\n",
        "print(\"play as word average  tragedies {}\".format(np.mean(tragedies_sim)))"
      ],
      "metadata": {
        "colab": {
          "base_uri": "https://localhost:8080/"
        },
        "id": "07v3kNBpSD7U",
        "outputId": "1ea61e7a-8126-4052-c397-986a55e1baf8"
      },
      "execution_count": 73,
      "outputs": [
        {
          "output_type": "stream",
          "name": "stdout",
          "text": [
            "play as word average  tragedies 0.9925193923005564\n"
          ]
        }
      ]
    },
    {
      "cell_type": "markdown",
      "metadata": {
        "id": "HjZgaba7dJpG"
      },
      "source": [
        "**Task 16:**\n",
        "\n",
        "16. Use gensim to learn 100-dimensional word2vec representation of the words in the play (you can use default\n",
        "parameters but with min count=1 so you can learn vector representations of all the words in your data i.e., no need to\n",
        "use vocab.txt in this question). Use the learned word2vec representation to construct vector representations of plays as\n",
        "the average of all the word vectors in the play. Visualize these representations to see which plays are most similar to each other.\n",
        "\n",
        "**Hint:** from now, since the inputs are no longer sparse, use the PCA function instead of the 'truncatedSVD' one."
      ]
    },
    {
      "cell_type": "code",
      "source": [
        "train_data = tokenize(play_text, remove_stop=False)\n",
        "model = Word2Vec(sentences=train_data, size=100, window=5, min_count=1)"
      ],
      "metadata": {
        "id": "pb20roP21yhU"
      },
      "execution_count": 32,
      "outputs": []
    },
    {
      "cell_type": "code",
      "source": [
        "play_vectors_word2vec = {}\n",
        "for name, text in play_to_text.items():\n",
        "    word_vectors = []\n",
        "    text = ' '.join(text)\n",
        "    for word in text.lower().split():\n",
        "        if word in model.wv.vocab:\n",
        "            word_vectors.append(model.wv[word])\n",
        "    play_vectors_word2vec[name] = np.mean(word_vectors, axis=0)"
      ],
      "metadata": {
        "id": "wH4kWv_lOCgp"
      },
      "execution_count": 44,
      "outputs": []
    },
    {
      "cell_type": "code",
      "source": [
        "play_vectors_word2vec.keys()"
      ],
      "metadata": {
        "colab": {
          "base_uri": "https://localhost:8080/"
        },
        "id": "wYl4KQA_Tqsl",
        "outputId": "c95ad556-62f3-43ab-d202-3c653ab6b333"
      },
      "execution_count": 74,
      "outputs": [
        {
          "output_type": "execute_result",
          "data": {
            "text/plain": [
              "dict_keys(['Henry IV', 'Henry VI Part 1', 'Henry VI Part 2', 'Henry VI Part 3', 'Alls well that ends well', 'As you like it', 'Antony and Cleopatra', 'A Comedy of Errors', 'Coriolanus', 'Cymbeline', 'Hamlet', 'Henry V', 'Henry VIII', 'King John', 'Julius Caesar', 'King Lear', 'Loves Labours Lost', 'macbeth', 'Measure for measure', 'Merchant of Venice', 'Merry Wives of Windsor', 'A Midsummer nights dream', 'Much Ado about nothing', 'Othello', 'Pericles', 'Richard II', 'Richard III', 'Romeo and Juliet', 'Taming of the Shrew', 'The Tempest', 'Timon of Athens', 'Titus Andronicus', 'Troilus and Cressida', 'Twelfth Night', 'Two Gentlemen of Verona', 'A Winters Tale'])"
            ]
          },
          "metadata": {},
          "execution_count": 74
        }
      ]
    },
    {
      "cell_type": "code",
      "source": [
        "play_vectors = np.array([vector for vector in play_vectors_word2vec.values()])"
      ],
      "metadata": {
        "id": "1lwkWKaETtpO"
      },
      "execution_count": 75,
      "outputs": []
    },
    {
      "cell_type": "code",
      "source": [
        "pca = PCA(n_components=2)\n",
        "play_vectors_pca = pca.fit_transform(play_vectors)"
      ],
      "metadata": {
        "id": "To2a5vElT1nw"
      },
      "execution_count": 76,
      "outputs": []
    },
    {
      "cell_type": "code",
      "source": [
        "plt.figure(figsize=(14,8))\n",
        "plt.scatter(play_vectors_pca[:, 0], play_vectors_pca[:, 1])\n",
        "for i, play in enumerate(play_vectors_word2vec.keys()):\n",
        "    plt.annotate(play, xy=(play_vectors_pca[i, 0], play_vectors_pca[i, 1]))\n",
        "plt.savefig(\"play_word2vec.png\")\n",
        "plt.show()"
      ],
      "metadata": {
        "colab": {
          "base_uri": "https://localhost:8080/",
          "height": 483
        },
        "id": "G0wIMIngT9Nf",
        "outputId": "be49fb87-02cc-4e8b-bf22-8f48cd1e0217"
      },
      "execution_count": 77,
      "outputs": [
        {
          "output_type": "display_data",
          "data": {
            "text/plain": [
              "<Figure size 1008x576 with 1 Axes>"
            ],
            "image/png": "[encoded data removed]"
          },
          "metadata": {
            "needs_background": "light"
          }
        }
      ]
    },
    {
      "cell_type": "code",
      "source": [
        "comedies_paris = list(combinations(comedies, 2))\n",
        "comedies_sim = []\n",
        "for (a, b) in comedies_paris:\n",
        "    v1 = play_vectors_word2vec[a]\n",
        "    v2 = play_vectors_word2vec[b]\n",
        "    comedies_sim.append(cos_sim(v1, v2))\n",
        "print(\"Comedies Cosine Similarity: {}\".format(np.mean(comedies_sim)))"
      ],
      "metadata": {
        "colab": {
          "base_uri": "https://localhost:8080/"
        },
        "id": "LhhvfJxqOcDg",
        "outputId": "2dd68ed0-a3d7-4183-ed13-720bfce461bb"
      },
      "execution_count": 36,
      "outputs": [
        {
          "output_type": "stream",
          "name": "stdout",
          "text": [
            "Comedies Cosine Similarity: 0.9985671043395996\n"
          ]
        }
      ]
    },
    {
      "cell_type": "code",
      "source": [
        "histories_paris = list(combinations(histories, 2))\n",
        "histories_sim = []\n",
        "for (a, b) in histories_paris:\n",
        "    v1 = play_vectors_word2vec[a]\n",
        "    v2 = play_vectors_word2vec[b]\n",
        "    histories_sim.append(cos_sim(v1, v2))\n",
        "print(\"histories Cosine Similarity: {}\".format(np.mean(histories_sim)))"
      ],
      "metadata": {
        "colab": {
          "base_uri": "https://localhost:8080/"
        },
        "id": "6Mdv6847tOyK",
        "outputId": "d2f67bcc-d058-42f1-9a1c-c21a8240c40a"
      },
      "execution_count": 37,
      "outputs": [
        {
          "output_type": "stream",
          "name": "stdout",
          "text": [
            "histories Cosine Similarity: 0.9988657832145691\n"
          ]
        }
      ]
    },
    {
      "cell_type": "code",
      "source": [
        "tragedies_paris = list(combinations(tragedies, 2))\n",
        "tragedies_sim = []\n",
        "for (a, b) in tragedies_paris:\n",
        "    v1 = play_vectors_word2vec[a]\n",
        "    v2 = play_vectors_word2vec[b]\n",
        "    tragedies_sim.append(cos_sim(v1, v2))\n",
        "print(\"tragedies Cosine Similarity: {}\".format(np.mean(tragedies_sim)))"
      ],
      "metadata": {
        "colab": {
          "base_uri": "https://localhost:8080/"
        },
        "id": "ENA5xvvDSWtr",
        "outputId": "772c5d08-0960-48ba-848c-ab6a4a331dfb"
      },
      "execution_count": 70,
      "outputs": [
        {
          "output_type": "stream",
          "name": "stdout",
          "text": [
            "tragedies Cosine Similarity: 0.998389482498169\n"
          ]
        }
      ]
    },
    {
      "cell_type": "markdown",
      "metadata": {
        "id": "Nq77-lY7d3is"
      },
      "source": [
        "**Task 17:**\n",
        "\n",
        "17. Construct the vector representation of each character as the average\n",
        "of all lines’ representations that the character spoke (with the trained gensim trained representation). Visualize the characters using PCA."
      ]
    },
    {
      "cell_type": "code",
      "source": [
        "character_to_text = {}\n",
        "for data in text_list[:]:\n",
        "    character = data[4]\n",
        "    talk = data[5]\n",
        "    if character != '':\n",
        "        if character not in character_to_text:\n",
        "            character_to_text[character] = []\n",
        "            character_to_text[character].append(talk)\n",
        "        else:\n",
        "            character_to_text[character].append(talk)"
      ],
      "metadata": {
        "id": "h4WDWO1yuWX6"
      },
      "execution_count": 38,
      "outputs": []
    },
    {
      "cell_type": "code",
      "source": [
        "character_to_vectors = {}\n",
        "for character, text in character_to_text.items():\n",
        "    word_vectors = []\n",
        "    text = ' '.join(text)\n",
        "    for word in text.lower().split():\n",
        "        if word in model.wv.vocab:\n",
        "            word_vectors.append(model.wv[word])\n",
        "    if len(word_vectors) > 3000:\n",
        "        character_to_vectors[character] = np.mean(word_vectors, axis=0)"
      ],
      "metadata": {
        "id": "tNfyYzKywDxg"
      },
      "execution_count": 39,
      "outputs": []
    },
    {
      "cell_type": "code",
      "source": [
        "character_to_vectors.keys()"
      ],
      "metadata": {
        "colab": {
          "base_uri": "https://localhost:8080/"
        },
        "id": "7USt1mNnwKtb",
        "outputId": "ba48decf-121c-4e7c-d3a8-268c370e450e"
      },
      "execution_count": 40,
      "outputs": [
        {
          "output_type": "execute_result",
          "data": {
            "text/plain": [
              "dict_keys(['FALSTAFF', 'PRINCE HENRY', 'HOTSPUR', 'GLOUCESTER', 'SUFFOLK', 'WARWICK', 'KING HENRY VI', 'YORK', 'QUEEN MARGARET', 'BUCKINGHAM', 'HELENA', 'Clown', 'ROSALIND', 'CLEOPATRA', 'MARK ANTONY', 'MENENIUS', 'BRUTUS', 'CORIOLANUS', 'IMOGEN', 'KING CLAUDIUS', 'HAMLET', 'KING HENRY V', 'BASTARD', 'CASSIUS', 'PORTIA', 'KING LEAR', 'BIRON', 'MACBETH', 'DUKE VINCENTIO', 'JULIET', 'ANTONIO', 'BENEDICK', 'IAGO', 'OTHELLO', 'PERICLES', 'KING RICHARD II', 'ROMEO', 'PETRUCHIO', 'PROSPERO', 'TIMON', 'TITUS ANDRONICUS', 'TROILUS', 'LEONTES'])"
            ]
          },
          "metadata": {},
          "execution_count": 40
        }
      ]
    },
    {
      "cell_type": "code",
      "source": [
        "character_vectors = np.array([vector for vector in character_to_vectors.values()])"
      ],
      "metadata": {
        "id": "X4yA3-PTwNeh"
      },
      "execution_count": 41,
      "outputs": []
    },
    {
      "cell_type": "code",
      "source": [
        "pca = PCA(n_components=2)\n",
        "character_vectors_pca = pca.fit_transform(character_vectors)"
      ],
      "metadata": {
        "id": "WX6e_wiFwR7O"
      },
      "execution_count": 42,
      "outputs": []
    },
    {
      "cell_type": "code",
      "source": [
        "plt.figure(figsize=(14,8))\n",
        "plt.scatter(character_vectors_pca[:, 0], character_vectors_pca[:, 1])\n",
        "for i, character in enumerate(character_to_vectors.keys()):\n",
        "    plt.annotate(character, xy=(character_vectors_pca[i, 0], character_vectors_pca[i, 1]))\n",
        "plt.savefig(\"character_word2vec.png\")\n",
        "plt.show()"
      ],
      "metadata": {
        "colab": {
          "base_uri": "https://localhost:8080/",
          "height": 483
        },
        "id": "beloMq1AwZN0",
        "outputId": "1635d038-9c6a-44a0-a39c-75c11f23325b"
      },
      "execution_count": 112,
      "outputs": [
        {
          "output_type": "display_data",
          "data": {
            "text/plain": [
              "<Figure size 1008x576 with 1 Axes>"
            ],
            "image/png": "[encoded data removed]"
          },
          "metadata": {
            "needs_background": "light"
          }
        }
      ]
    },
    {
      "cell_type": "markdown",
      "metadata": {
        "id": "jreF9lpbeeF0"
      },
      "source": [
        "**Task 18:**\n",
        "\n",
        "18. Can you find plays that are central i.e., closest to centroid to each genre? You could do so by visualizing the play representation with PCA."
      ]
    },
    {
      "cell_type": "code",
      "source": [
        "play_to_text_comedies = {}\n",
        "for data in text_list:\n",
        "    name = data[1]\n",
        "    talk = data[5]\n",
        "    if name in comedies:\n",
        "            if name not in play_to_text_comedies:\n",
        "                play_to_text_comedies[name] = []\n",
        "                play_to_text_comedies[name].append(talk)\n",
        "            else:\n",
        "                play_to_text_comedies[name].append(talk)"
      ],
      "metadata": {
        "id": "jN7xLMLDISN8"
      },
      "execution_count": 45,
      "outputs": []
    },
    {
      "cell_type": "code",
      "source": [
        "play_vectors_word2vec_comedies = {}\n",
        "for name, text in play_to_text_comedies.items():\n",
        "    word_vectors = []\n",
        "    text = ' '.join(text)\n",
        "    for word in text.lower().split():\n",
        "        if word in model.wv.vocab:\n",
        "            word_vectors.append(model.wv[word])\n",
        "    play_vectors_word2vec_comedies[name] = np.mean(word_vectors, axis=0)"
      ],
      "metadata": {
        "id": "4lH14t3ALLNK"
      },
      "execution_count": 48,
      "outputs": []
    },
    {
      "cell_type": "code",
      "source": [
        "play_vectors_word2vec_comedies.keys()"
      ],
      "metadata": {
        "colab": {
          "base_uri": "https://localhost:8080/"
        },
        "id": "BRoKHNDFLz4j",
        "outputId": "dd391879-530f-4505-f28e-03f8ef66ce82"
      },
      "execution_count": 50,
      "outputs": [
        {
          "output_type": "execute_result",
          "data": {
            "text/plain": [
              "dict_keys(['Alls well that ends well', 'As you like it', 'A Comedy of Errors', 'Loves Labours Lost', 'Measure for measure', 'Merchant of Venice', 'Merry Wives of Windsor', 'A Midsummer nights dream', 'Much Ado about nothing', 'Pericles', 'Taming of the Shrew', 'The Tempest', 'Twelfth Night', 'Two Gentlemen of Verona', 'A Winters Tale'])"
            ]
          },
          "metadata": {},
          "execution_count": 50
        }
      ]
    },
    {
      "cell_type": "code",
      "source": [
        "comedies_vectors = np.array([vector for vector in play_vectors_word2vec_comedies.values()])"
      ],
      "metadata": {
        "id": "EkSypI39L133"
      },
      "execution_count": 51,
      "outputs": []
    },
    {
      "cell_type": "code",
      "source": [
        "pca = PCA(n_components=2)\n",
        "comedies_vectors_pca = pca.fit_transform(comedies_vectors)"
      ],
      "metadata": {
        "id": "czjKYp7oMEt7"
      },
      "execution_count": 52,
      "outputs": []
    },
    {
      "cell_type": "code",
      "source": [
        "plt.figure(figsize=(10,6))\n",
        "plt.scatter(comedies_vectors_pca[:, 0], comedies_vectors_pca[:, 1])\n",
        "for i, comedies in enumerate(play_vectors_word2vec_comedies.keys()):\n",
        "    plt.annotate(comedies, xy=(comedies_vectors_pca[i, 0], comedies_vectors_pca[i, 1]))\n",
        "plt.savefig(\"comedies_word2vec.png\")\n",
        "plt.show()"
      ],
      "metadata": {
        "colab": {
          "base_uri": "https://localhost:8080/",
          "height": 374
        },
        "id": "C-JqCA2dMK_v",
        "outputId": "01669158-3a5f-472d-d78a-db70a61ce6d2"
      },
      "execution_count": 110,
      "outputs": [
        {
          "output_type": "display_data",
          "data": {
            "text/plain": [
              "<Figure size 720x432 with 1 Axes>"
            ],
            "image/png": "[encoded data removed]"
          },
          "metadata": {
            "needs_background": "light"
          }
        }
      ]
    },
    {
      "cell_type": "code",
      "source": [
        "play_to_text_histories = {}\n",
        "for data in text_list:\n",
        "    name = data[1]\n",
        "    talk = data[5]\n",
        "    if name in histories:\n",
        "            if name not in play_to_text_histories:\n",
        "                play_to_text_histories[name] = []\n",
        "                play_to_text_histories[name].append(talk)\n",
        "            else:\n",
        "                play_to_text_histories[name].append(talk)\n",
        "\n",
        "play_vectors_word2vec_histories = {}\n",
        "for name, text in play_to_text_histories.items():\n",
        "    word_vectors = []\n",
        "    text = ' '.join(text)\n",
        "    for word in text.lower().split():\n",
        "        if word in model.wv.vocab:\n",
        "            word_vectors.append(model.wv[word])\n",
        "    play_vectors_word2vec_histories[name] = np.mean(word_vectors, axis=0)\n",
        "\n",
        "play_vectors_word2vec_histories.keys()"
      ],
      "metadata": {
        "colab": {
          "base_uri": "https://localhost:8080/"
        },
        "id": "295sKqayWeds",
        "outputId": "6a5711e4-b031-4516-f875-363d580f81d9"
      },
      "execution_count": 93,
      "outputs": [
        {
          "output_type": "execute_result",
          "data": {
            "text/plain": [
              "dict_keys(['Henry IV', 'Henry VI Part 1', 'Henry VI Part 2', 'Henry VI Part 3', 'Henry V', 'Henry VIII', 'King John', 'Richard II', 'Richard III'])"
            ]
          },
          "metadata": {},
          "execution_count": 93
        }
      ]
    },
    {
      "cell_type": "code",
      "source": [
        "histories_vectors = np.array([vector for vector in play_vectors_word2vec_histories.values()])\n",
        "pca = PCA(n_components=2)\n",
        "histories_vectors_pca = pca.fit_transform(histories_vectors)"
      ],
      "metadata": {
        "id": "vyqGr8-WWWqa"
      },
      "execution_count": 94,
      "outputs": []
    },
    {
      "cell_type": "code",
      "source": [
        "plt.figure(figsize=(10,6))\n",
        "plt.scatter(histories_vectors_pca[:, 0], histories_vectors_pca[:, 1])\n",
        "for i, histories in enumerate(play_vectors_word2vec_histories.keys()):\n",
        "    plt.annotate(histories, xy=(histories_vectors_pca[i, 0], histories_vectors_pca[i, 1]))\n",
        "plt.savefig(\"histories_word2vec.png\")\n",
        "plt.show()"
      ],
      "metadata": {
        "colab": {
          "base_uri": "https://localhost:8080/",
          "height": 374
        },
        "id": "Roi_GOgBashz",
        "outputId": "9cf36e4f-9d4a-401c-d880-0e39d5021cbb"
      },
      "execution_count": 109,
      "outputs": [
        {
          "output_type": "display_data",
          "data": {
            "text/plain": [
              "<Figure size 720x432 with 1 Axes>"
            ],
            "image/png": "[encoded data removed]"
          },
          "metadata": {
            "needs_background": "light"
          }
        }
      ]
    },
    {
      "cell_type": "code",
      "source": [
        "play_to_text_tragedies = {}\n",
        "for data in text_list:\n",
        "    name = data[1]\n",
        "    talk = data[5]\n",
        "    if name in tragedies:\n",
        "            if name not in play_to_text_tragedies:\n",
        "                play_to_text_tragedies[name] = []\n",
        "                play_to_text_tragedies[name].append(talk)\n",
        "            else:\n",
        "                play_to_text_tragedies[name].append(talk)\n",
        "\n",
        "play_vectors_word2vec_tragedies = {}\n",
        "for name, text in play_to_text_tragedies.items():\n",
        "    word_vectors = []\n",
        "    text = ' '.join(text)\n",
        "    for word in text.lower().split():\n",
        "        if word in model.wv.vocab:\n",
        "            word_vectors.append(model.wv[word])\n",
        "    play_vectors_word2vec_tragedies[name] = np.mean(word_vectors, axis=0)\n",
        "\n",
        "play_vectors_word2vec_tragedies.keys()"
      ],
      "metadata": {
        "colab": {
          "base_uri": "https://localhost:8080/"
        },
        "id": "4AbJeHOMcEI-",
        "outputId": "d703c4b8-91b1-40e3-c2c8-a533d3e1a485"
      },
      "execution_count": 96,
      "outputs": [
        {
          "output_type": "execute_result",
          "data": {
            "text/plain": [
              "dict_keys(['Antony and Cleopatra', 'Coriolanus', 'Cymbeline', 'Hamlet', 'Julius Caesar', 'King Lear', 'macbeth', 'Othello', 'Romeo and Juliet', 'Timon of Athens', 'Titus Andronicus', 'Troilus and Cressida'])"
            ]
          },
          "metadata": {},
          "execution_count": 96
        }
      ]
    },
    {
      "cell_type": "code",
      "source": [
        "tragedies_vectors = np.array([vector for vector in play_vectors_word2vec_tragedies.values()])\n",
        "pca = PCA(n_components=2)\n",
        "tragedies_vectors_pca = pca.fit_transform(tragedies_vectors)"
      ],
      "metadata": {
        "id": "3EONC7RBcaad"
      },
      "execution_count": 97,
      "outputs": []
    },
    {
      "cell_type": "code",
      "source": [
        "plt.figure(figsize=(10,6))\n",
        "plt.scatter(tragedies_vectors_pca[:, 0], tragedies_vectors_pca[:, 1])\n",
        "for i, tragedies in enumerate(play_vectors_word2vec_tragedies.keys()):\n",
        "    plt.annotate(tragedies, xy=(tragedies_vectors_pca[i, 0], tragedies_vectors_pca[i, 1]))\n",
        "plt.savefig(\"tragedies_word2vec.png\")\n",
        "plt.show()"
      ],
      "metadata": {
        "colab": {
          "base_uri": "https://localhost:8080/",
          "height": 374
        },
        "id": "GiPa-bAEcczu",
        "outputId": "d4c0e97a-afcd-41c8-c9b0-dafb791b0abe"
      },
      "execution_count": 108,
      "outputs": [
        {
          "output_type": "display_data",
          "data": {
            "text/plain": [
              "<Figure size 720x432 with 1 Axes>"
            ],
            "image/png": "[encoded data removed]"
          },
          "metadata": {
            "needs_background": "light"
          }
        }
      ]
    }
  ],
  "metadata": {
    "colab": {
      "collapsed_sections": [],
      "provenance": [],
      "include_colab_link": true
    },
    "kernelspec": {
      "display_name": "Python 3 (ipykernel)",
      "language": "python",
      "name": "python3"
    },
    "language_info": {
      "codemirror_mode": {
        "name": "ipython",
        "version": 3
      },
      "file_extension": ".py",
      "mimetype": "text/x-python",
      "name": "python",
      "nbconvert_exporter": "python",
      "pygments_lexer": "ipython3",
      "version": "3.9.10"
    }
  },
  "nbformat": 4,
  "nbformat_minor": 0
}